{
 "cells": [
  {
   "cell_type": "markdown",
   "metadata": {},
   "source": [
    "Name: Nguyen Phuong Trinh\n",
    "\n",
    "      Nguyen Thi Quynh"
   ]
  },
  {
   "cell_type": "markdown",
   "metadata": {},
   "source": [
    "Exercise 1: GLM"
   ]
  },
  {
   "cell_type": "markdown",
   "metadata": {},
   "source": [
    "1. Poisson"
   ]
  },
  {
   "cell_type": "markdown",
   "metadata": {},
   "source": [
    "We have known that the density function of Poisson distribution is:\n",
    " F(Y=y)=e^(-lamda)*lamda^y/y!\n",
    "It means that we can calculate the probability of a client has y claims in a year where lamda is the average claim within that year. However if we fix lamda, it would lead to overdispersion phenomenom so to avoid that we will consider lamda as a random variable and it will change correspond to the charateristic information of each client. To be more precise, in this exercise the characteristic information of the clients would be:\n",
    "        1.Age\n",
    "        2.Vehicles power\n",
    "        3.Ville\n",
    "        4.Rouge\n",
    "        5.Age permit\n",
    "We have theta=log(lamda) and theta= beta0+X'beta (where X is the characteristic matrix of the clients)\n",
    "so: lamda= e^theta or lamda= e^(beta0+X'beta). we alternate it into the density function of poisson distribution and use loglikelihood function we will obtain(each client):\n",
    "Li=log(e^(-e^(beta0+X'beta)*(e^(beta0+X'beta)^yi)/yi!)\n",
    "L(beta0,beat,yi/xi)=sum of (Li)\n",
    "so l=sum(log(e^(-e^(beta0+X'beta)*(e^(beta0+X'beta)^yi)/yi!)), where i is from 1 to 100000 (we have 100000 observations)\n",
    "\n",
    "# Our mission is to find argmax(L(beta0,beat,yi/xi)) with respect to beta0, beta\n",
    "and here beta is a vector beta(beta1,beta2,beta3,beta4,beta5) wrt age, vehicle power, ville, rouge. when we obtain beta, for each charateristic information we will obtain a specific value of lamda then we can calculate the probbability a specific client make y claims in a year so from that we can make pricing for that person. However in this exercise we will not do pricing part."
   ]
  },
  {
   "cell_type": "code",
   "execution_count": 6,
   "metadata": {},
   "outputs": [
    {
     "name": "stdout",
     "output_type": "stream",
     "text": [
      "<class 'pandas.core.frame.DataFrame'>\n",
      "RangeIndex: 100000 entries, 0 to 99999\n",
      "Data columns (total 6 columns):\n",
      "y             100000 non-null int64\n",
      "age           100000 non-null float64\n",
      "puissance     100000 non-null int64\n",
      "ville         100000 non-null int64\n",
      "rouge         100000 non-null int64\n",
      "age_permis    100000 non-null float64\n",
      "dtypes: float64(2), int64(4)\n",
      "memory usage: 4.6 MB\n",
      "None\n"
     ]
    },
    {
     "data": {
      "text/html": [
       "<div>\n",
       "<style scoped>\n",
       "    .dataframe tbody tr th:only-of-type {\n",
       "        vertical-align: middle;\n",
       "    }\n",
       "\n",
       "    .dataframe tbody tr th {\n",
       "        vertical-align: top;\n",
       "    }\n",
       "\n",
       "    .dataframe thead th {\n",
       "        text-align: right;\n",
       "    }\n",
       "</style>\n",
       "<table border=\"1\" class=\"dataframe\">\n",
       "  <thead>\n",
       "    <tr style=\"text-align: right;\">\n",
       "      <th></th>\n",
       "      <th>y</th>\n",
       "      <th>age</th>\n",
       "      <th>puissance</th>\n",
       "      <th>ville</th>\n",
       "      <th>rouge</th>\n",
       "      <th>age_permis</th>\n",
       "    </tr>\n",
       "  </thead>\n",
       "  <tbody>\n",
       "    <tr>\n",
       "      <th>0</th>\n",
       "      <td>0</td>\n",
       "      <td>32.657359</td>\n",
       "      <td>0</td>\n",
       "      <td>1</td>\n",
       "      <td>0</td>\n",
       "      <td>14.106554</td>\n",
       "    </tr>\n",
       "    <tr>\n",
       "      <th>1</th>\n",
       "      <td>0</td>\n",
       "      <td>20.224933</td>\n",
       "      <td>0</td>\n",
       "      <td>1</td>\n",
       "      <td>0</td>\n",
       "      <td>0.002929</td>\n",
       "    </tr>\n",
       "    <tr>\n",
       "      <th>2</th>\n",
       "      <td>1</td>\n",
       "      <td>23.329700</td>\n",
       "      <td>0</td>\n",
       "      <td>1</td>\n",
       "      <td>0</td>\n",
       "      <td>3.172458</td>\n",
       "    </tr>\n",
       "    <tr>\n",
       "      <th>3</th>\n",
       "      <td>0</td>\n",
       "      <td>32.890539</td>\n",
       "      <td>1</td>\n",
       "      <td>1</td>\n",
       "      <td>0</td>\n",
       "      <td>5.244957</td>\n",
       "    </tr>\n",
       "    <tr>\n",
       "      <th>4</th>\n",
       "      <td>0</td>\n",
       "      <td>23.946291</td>\n",
       "      <td>0</td>\n",
       "      <td>1</td>\n",
       "      <td>0</td>\n",
       "      <td>4.862413</td>\n",
       "    </tr>\n",
       "  </tbody>\n",
       "</table>\n",
       "</div>"
      ],
      "text/plain": [
       "   y        age  puissance  ville  rouge  age_permis\n",
       "0  0  32.657359          0      1      0   14.106554\n",
       "1  0  20.224933          0      1      0    0.002929\n",
       "2  1  23.329700          0      1      0    3.172458\n",
       "3  0  32.890539          1      1      0    5.244957\n",
       "4  0  23.946291          0      1      0    4.862413"
      ]
     },
     "execution_count": 6,
     "metadata": {},
     "output_type": "execute_result"
    }
   ],
   "source": [
    "import pandas as pd          \n",
    "import numpy as np\n",
    "import statsmodels.api as sm\n",
    "from scipy import stats  \n",
    "from statsmodels.formula.api import glm\n",
    "GLM=pd.read_csv(\"C:/Users/DELL/Desktop/GLM.csv\")\n",
    "print(GLM.info())\n",
    "GLM.head()"
   ]
  },
  {
   "cell_type": "code",
   "execution_count": 16,
   "metadata": {},
   "outputs": [
    {
     "data": {
      "text/html": [
       "<div>\n",
       "<style scoped>\n",
       "    .dataframe tbody tr th:only-of-type {\n",
       "        vertical-align: middle;\n",
       "    }\n",
       "\n",
       "    .dataframe tbody tr th {\n",
       "        vertical-align: top;\n",
       "    }\n",
       "\n",
       "    .dataframe thead th {\n",
       "        text-align: right;\n",
       "    }\n",
       "</style>\n",
       "<table border=\"1\" class=\"dataframe\">\n",
       "  <thead>\n",
       "    <tr style=\"text-align: right;\">\n",
       "      <th></th>\n",
       "      <th>y</th>\n",
       "      <th>age</th>\n",
       "      <th>puissance</th>\n",
       "      <th>ville</th>\n",
       "      <th>rouge</th>\n",
       "      <th>age_permis</th>\n",
       "      <th>varibable</th>\n",
       "      <th>variable</th>\n",
       "    </tr>\n",
       "  </thead>\n",
       "  <tbody>\n",
       "    <tr>\n",
       "      <th>0</th>\n",
       "      <td>0</td>\n",
       "      <td>32.657359</td>\n",
       "      <td>0</td>\n",
       "      <td>1</td>\n",
       "      <td>0</td>\n",
       "      <td>14.106554</td>\n",
       "      <td>1.0</td>\n",
       "      <td>1.0</td>\n",
       "    </tr>\n",
       "    <tr>\n",
       "      <th>1</th>\n",
       "      <td>0</td>\n",
       "      <td>20.224933</td>\n",
       "      <td>0</td>\n",
       "      <td>1</td>\n",
       "      <td>0</td>\n",
       "      <td>0.002929</td>\n",
       "      <td>1.0</td>\n",
       "      <td>1.0</td>\n",
       "    </tr>\n",
       "    <tr>\n",
       "      <th>2</th>\n",
       "      <td>1</td>\n",
       "      <td>23.329700</td>\n",
       "      <td>0</td>\n",
       "      <td>1</td>\n",
       "      <td>0</td>\n",
       "      <td>3.172458</td>\n",
       "      <td>1.0</td>\n",
       "      <td>1.0</td>\n",
       "    </tr>\n",
       "    <tr>\n",
       "      <th>3</th>\n",
       "      <td>0</td>\n",
       "      <td>32.890539</td>\n",
       "      <td>1</td>\n",
       "      <td>1</td>\n",
       "      <td>0</td>\n",
       "      <td>5.244957</td>\n",
       "      <td>1.0</td>\n",
       "      <td>1.0</td>\n",
       "    </tr>\n",
       "    <tr>\n",
       "      <th>4</th>\n",
       "      <td>0</td>\n",
       "      <td>23.946291</td>\n",
       "      <td>0</td>\n",
       "      <td>1</td>\n",
       "      <td>0</td>\n",
       "      <td>4.862413</td>\n",
       "      <td>1.0</td>\n",
       "      <td>1.0</td>\n",
       "    </tr>\n",
       "  </tbody>\n",
       "</table>\n",
       "</div>"
      ],
      "text/plain": [
       "   y        age  puissance  ville  rouge  age_permis  varibable  variable\n",
       "0  0  32.657359          0      1      0   14.106554        1.0       1.0\n",
       "1  0  20.224933          0      1      0    0.002929        1.0       1.0\n",
       "2  1  23.329700          0      1      0    3.172458        1.0       1.0\n",
       "3  0  32.890539          1      1      0    5.244957        1.0       1.0\n",
       "4  0  23.946291          0      1      0    4.862413        1.0       1.0"
      ]
     },
     "execution_count": 16,
     "metadata": {},
     "output_type": "execute_result"
    }
   ],
   "source": [
    "#add a column of 1 is the variable for beta0\n",
    "x=np.ones(100000)\n",
    "GLM['variable']=pd.Series(x)\n",
    "GLM.head()"
   ]
  },
  {
   "cell_type": "code",
   "execution_count": 18,
   "metadata": {},
   "outputs": [
    {
     "name": "stdout",
     "output_type": "stream",
     "text": [
      "                 Generalized Linear Model Regression Results                  \n",
      "==============================================================================\n",
      "Dep. Variable:                      y   No. Observations:               100000\n",
      "Model:                            GLM   Df Residuals:                    99994\n",
      "Model Family:                 Poisson   Df Model:                            5\n",
      "Link Function:                    log   Scale:                          1.0000\n",
      "Method:                          IRLS   Log-Likelihood:                -30538.\n",
      "Date:                Thu, 02 Jul 2020   Deviance:                       43877.\n",
      "Time:                        00:32:23   Pearson chi2:                 1.00e+05\n",
      "No. Iterations:                     6                                         \n",
      "Covariance Type:            nonrobust                                         \n",
      "==============================================================================\n",
      "                 coef    std err          z      P>|z|      [0.025      0.975]\n",
      "------------------------------------------------------------------------------\n",
      "age           -0.0145      0.003     -5.190      0.000      -0.020      -0.009\n",
      "puissance      0.1900      0.028      6.826      0.000       0.135       0.245\n",
      "ville          0.1524      0.024      6.375      0.000       0.106       0.199\n",
      "rouge         -0.0104      0.035     -0.294      0.769      -0.080       0.059\n",
      "age_permis    -0.0135      0.004     -3.731      0.000      -0.021      -0.006\n",
      "variable      -2.1266      0.060    -35.184      0.000      -2.245      -2.008\n",
      "==============================================================================\n"
     ]
    }
   ],
   "source": [
    "import pandas as pd          \n",
    "import numpy as np\n",
    "import statsmodels.api as sm\n",
    "from scipy import stats  \n",
    "from statsmodels.formula.api import glm\n",
    "Y=GLM['y']\n",
    "X=GLM[['age','puissance','ville','rouge','age_permis','variable']]\n",
    "poisson_result=sm.GLM(Y, X, family=sm.families.Poisson()).fit()\n",
    "print(poisson_result.summary())"
   ]
  },
  {
   "cell_type": "markdown",
   "metadata": {},
   "source": [
    "so we get theta=-2.1266-0.0145*age+0.19*puissance+0.1524*ville-0.0104*rouge-0.0135*age_permis"
   ]
  },
  {
   "cell_type": "markdown",
   "metadata": {},
   "source": [
    "2. Lasso"
   ]
  },
  {
   "cell_type": "code",
   "execution_count": 43,
   "metadata": {},
   "outputs": [
    {
     "name": "stdout",
     "output_type": "stream",
     "text": [
      "The coefficient is:  [-1.12969935e-03  1.90202032e-02  1.28719388e-02 -1.31513730e-05\n",
      " -8.63566305e-04  0.00000000e+00]\n",
      "The RMSE is:  0.2990822490619682\n"
     ]
    }
   ],
   "source": [
    "import numpy as np\n",
    "from sklearn.model_selection import train_test_split\n",
    "from sklearn.linear_model import LinearRegression\n",
    "from sklearn.metrics import mean_squared_error\n",
    "from sklearn import linear_model\n",
    "X_train, X_test, Y_train, Y_test = train_test_split(X, Y, test_size=0.2, random_state=42)\n",
    "reg = linear_model.Lasso(alpha=0.0000001)\n",
    "reg.fit(X_train,Y_train)\n",
    "test_prediction=reg.predict(X_test)\n",
    "lasso_mse = mean_squared_error(Y_test, test_prediction)\n",
    "lasso_rmse = np.sqrt(lasso_mse)\n",
    "print('The coefficient is: ',reg.coef_)\n",
    "print('The RMSE is: ',lasso_rmse)"
   ]
  },
  {
   "cell_type": "markdown",
   "metadata": {},
   "source": [
    "Lasso was introduced in order to improve the prediction accuracy and interpretability of regression models by altering the model fitting process to select only a subset of the provided covariates for use in the final model rather than using all of them, so we could see that when we choose alpha very small, the beta0 is around 0, it means that the 'variable' does not effect Y"
   ]
  },
  {
   "cell_type": "markdown",
   "metadata": {},
   "source": [
    "Exercise 2: Provision (Mack chain ladder)"
   ]
  },
  {
   "cell_type": "markdown",
   "metadata": {},
   "source": [
    "1. Calculate fj"
   ]
  },
  {
   "cell_type": "code",
   "execution_count": 1,
   "metadata": {},
   "outputs": [
    {
     "data": {
      "text/html": [
       "<div>\n",
       "<style scoped>\n",
       "    .dataframe tbody tr th:only-of-type {\n",
       "        vertical-align: middle;\n",
       "    }\n",
       "\n",
       "    .dataframe tbody tr th {\n",
       "        vertical-align: top;\n",
       "    }\n",
       "\n",
       "    .dataframe thead th {\n",
       "        text-align: right;\n",
       "    }\n",
       "</style>\n",
       "<table border=\"1\" class=\"dataframe\">\n",
       "  <thead>\n",
       "    <tr style=\"text-align: right;\">\n",
       "      <th></th>\n",
       "      <th>1</th>\n",
       "      <th>2</th>\n",
       "      <th>3</th>\n",
       "      <th>4</th>\n",
       "      <th>5</th>\n",
       "      <th>6</th>\n",
       "    </tr>\n",
       "  </thead>\n",
       "  <tbody>\n",
       "    <tr>\n",
       "      <th>1</th>\n",
       "      <td>3209</td>\n",
       "      <td>4372.0</td>\n",
       "      <td>4411.0</td>\n",
       "      <td>4428.0</td>\n",
       "      <td>4435.0</td>\n",
       "      <td>4456.0</td>\n",
       "    </tr>\n",
       "    <tr>\n",
       "      <th>2</th>\n",
       "      <td>3367</td>\n",
       "      <td>4659.0</td>\n",
       "      <td>4696.0</td>\n",
       "      <td>4720.0</td>\n",
       "      <td>4730.0</td>\n",
       "      <td>NaN</td>\n",
       "    </tr>\n",
       "    <tr>\n",
       "      <th>3</th>\n",
       "      <td>3871</td>\n",
       "      <td>5345.0</td>\n",
       "      <td>5338.0</td>\n",
       "      <td>5420.0</td>\n",
       "      <td>NaN</td>\n",
       "      <td>NaN</td>\n",
       "    </tr>\n",
       "    <tr>\n",
       "      <th>4</th>\n",
       "      <td>4239</td>\n",
       "      <td>5917.0</td>\n",
       "      <td>6020.0</td>\n",
       "      <td>NaN</td>\n",
       "      <td>NaN</td>\n",
       "      <td>NaN</td>\n",
       "    </tr>\n",
       "    <tr>\n",
       "      <th>5</th>\n",
       "      <td>4929</td>\n",
       "      <td>6794.0</td>\n",
       "      <td>NaN</td>\n",
       "      <td>NaN</td>\n",
       "      <td>NaN</td>\n",
       "      <td>NaN</td>\n",
       "    </tr>\n",
       "    <tr>\n",
       "      <th>6</th>\n",
       "      <td>5217</td>\n",
       "      <td>NaN</td>\n",
       "      <td>NaN</td>\n",
       "      <td>NaN</td>\n",
       "      <td>NaN</td>\n",
       "      <td>NaN</td>\n",
       "    </tr>\n",
       "  </tbody>\n",
       "</table>\n",
       "</div>"
      ],
      "text/plain": [
       "      1       2       3       4       5       6\n",
       "1  3209  4372.0  4411.0  4428.0  4435.0  4456.0\n",
       "2  3367  4659.0  4696.0  4720.0  4730.0     NaN\n",
       "3  3871  5345.0  5338.0  5420.0     NaN     NaN\n",
       "4  4239  5917.0  6020.0     NaN     NaN     NaN\n",
       "5  4929  6794.0     NaN     NaN     NaN     NaN\n",
       "6  5217     NaN     NaN     NaN     NaN     NaN"
      ]
     },
     "execution_count": 1,
     "metadata": {},
     "output_type": "execute_result"
    }
   ],
   "source": [
    "import pandas as pd\n",
    "import numpy as np\n",
    "#Create triangle\n",
    "data = pd.DataFrame({'1': [3209,3367,3871,4239,4929,5217],\n",
    "                   '2': [4372,4659,5345,5917,6794,np.nan],\n",
    "                   '3': [4411,4696,5338,6020,np.nan,np.nan],\n",
    "                   '4': [4428,4720,5420,np.nan,np.nan,np.nan],\n",
    "                   '5': [4435,4730,np.nan,np.nan,np.nan,np.nan],\n",
    "                   '6': [4456,np.nan,np.nan,np.nan,np.nan,np.nan]},\n",
    "                  index=['1', '2', '3', '4','5','6'])\n",
    "data"
   ]
  },
  {
   "cell_type": "code",
   "execution_count": 2,
   "metadata": {},
   "outputs": [
    {
     "name": "stdout",
     "output_type": "stream",
     "text": [
      "             1         2         3         4         5\n",
      "f[j]  1.380933  1.008476  1.008515  1.001858  1.004735\n"
     ]
    }
   ],
   "source": [
    "#create dtaframe of f with initial value is 0 \n",
    "f=pd.DataFrame({'1':[0],\n",
    "               '2':[0],\n",
    "               '3':[0],\n",
    "               '4':[0],\n",
    "               '5':[0]},\n",
    "               index=['f[j]'])\n",
    "n=6\n",
    "for j in range (0,n-1):\n",
    "    f.iloc[0,j]=data.iloc[0:n-j-1,j+1].sum()/data.iloc[0:n-j-1,j].sum()\n",
    "print(f)"
   ]
  },
  {
   "cell_type": "markdown",
   "metadata": {},
   "source": [
    "2. Fulfill the triangle"
   ]
  },
  {
   "cell_type": "code",
   "execution_count": 3,
   "metadata": {},
   "outputs": [
    {
     "name": "stdout",
     "output_type": "stream",
     "text": [
      "      1           2            3            4            5            6\n",
      "1  3209  4372.00000  4411.000000  4428.000000  4435.000000  4456.000000\n",
      "2  3367  4659.00000  4696.000000  4720.000000  4730.000000  4752.396843\n",
      "3  3871  5345.00000  5338.000000  5420.000000  5430.072147  5455.783875\n",
      "4  4239  5917.00000  6020.000000  6071.260644  6082.543048  6111.344266\n",
      "5  4929  6794.00000  6851.584783  6909.926419  6922.767340  6955.547073\n",
      "6  5217  7204.32725  7265.389896  7327.255106  7340.871562  7375.631044\n"
     ]
    }
   ],
   "source": [
    "for i in range (1,6):\n",
    "    for j in range (1,6):\n",
    "        if np.isnan(data.iloc[i,j])==True:\n",
    "            data.iloc[i,j]=data.iloc[i,j-1]*f.iloc[0,j-1]\n",
    "print(data)"
   ]
  },
  {
   "cell_type": "markdown",
   "metadata": {},
   "source": [
    "3. Reserve"
   ]
  },
  {
   "cell_type": "code",
   "execution_count": 4,
   "metadata": {},
   "outputs": [
    {
     "name": "stdout",
     "output_type": "stream",
     "text": [
      "      1          2          3          4           5            6\n",
      "Ri  0.0  22.396843  35.783875  91.344266  161.547073  2158.631044\n"
     ]
    }
   ],
   "source": [
    "R=pd.DataFrame({'1':[0],\n",
    "               '2':[0],\n",
    "               '3':[0],\n",
    "               '4':[0],\n",
    "               '5':[0],\n",
    "               '6':[0]},\n",
    "               index=['Ri'])\n",
    "\n",
    "n=6\n",
    "for i in range (0,n):\n",
    "    R.iloc[0,i]=data.iloc[i,5]-data.iloc[i,5-i]\n",
    "print(R)"
   ]
  },
  {
   "cell_type": "markdown",
   "metadata": {},
   "source": [
    "4. Calculate sigma square"
   ]
  },
  {
   "cell_type": "code",
   "execution_count": 6,
   "metadata": {},
   "outputs": [
    {
     "name": "stdout",
     "output_type": "stream",
     "text": [
      "              1         2         3         4         5\n",
      "sigma  0.525419  0.328677  0.200236  0.000661  0.000002\n"
     ]
    }
   ],
   "source": [
    "sigmasq=pd.DataFrame({'1':[0],\n",
    "               '2':[0],\n",
    "               '3':[0],\n",
    "               '4':[0],\n",
    "               '5':[0]},\n",
    "               index=['sigma'])\n",
    "\n",
    "n=6\n",
    "for j in range (0,n-2):\n",
    "    sigmasq.iloc[0,j]=((data.iloc[0:n-j-1,j]*(data.iloc[0:n-j-1,j+1]/data.iloc[0:n-j-1,j]-f.iloc[0,j])**2).sum())/(n-j-2)\n",
    "    \n",
    "sigmasq.iloc[0,n-2]=min((sigmasq.iloc[0,3]**2)/(sigmasq.iloc[0,2]),sigmasq.iloc[0,2],sigmasq.iloc[0,3])\n",
    "print(sigmasq)    "
   ]
  },
  {
   "cell_type": "markdown",
   "metadata": {},
   "source": [
    "5.calculate eqm"
   ]
  },
  {
   "cell_type": "code",
   "execution_count": 7,
   "metadata": {},
   "outputs": [
    {
     "name": "stdout",
     "output_type": "stream",
     "text": [
      "        1         2         3            4            5            6\n",
      "eqm_Ri  0  0.021314  5.776344  1736.162113  4933.456779  8598.821793\n"
     ]
    }
   ],
   "source": [
    "eqm_Ri=pd.DataFrame({'1':[0],\n",
    "               '2':[0],\n",
    "               '3':[0],\n",
    "               '4':[0],\n",
    "               '5':[0],\n",
    "               '6':[0]},\n",
    "               index=['eqm_Ri'])\n",
    "n=6\n",
    "for i in range (1,n):\n",
    "    for j in range (n-i-1,n-1):\n",
    "        eqm_Ri.iloc[0,i]=(data.iloc[i,n-1]**2)*((sigmasq.iloc[0,n-i-1:n-1]/f.iloc[0,n-i-1:n-1]**2)\n",
    "                                   *(1/data.iloc[i,n-i-1:n-1]+1/data.iloc[0:i,n-i-1:n-1].sum())).sum() \n",
    "        \n",
    "print(eqm_Ri)"
   ]
  },
  {
   "cell_type": "code",
   "execution_count": 8,
   "metadata": {},
   "outputs": [
    {
     "name": "stdout",
     "output_type": "stream",
     "text": [
      "46607.19315532822\n"
     ]
    }
   ],
   "source": [
    "n=6\n",
    "for i in range (1,n):\n",
    "    for j in range (n-i-1,n):\n",
    "        eqm_R=(eqm_Ri.iloc[0,i]+data.iloc[i,n-1]*data.iloc[i:n,n-1].sum()\n",
    "               *2*sigmasq.iloc[0,n-i-1:n-1]/(f.iloc[0,n-i-1:n-1]**2)/data.iloc[0:i,n-i-1:n-1].sum()).sum()\n",
    "print(eqm_R)"
   ]
  },
  {
   "cell_type": "code",
   "execution_count": 9,
   "metadata": {},
   "outputs": [
    {
     "name": "stdout",
     "output_type": "stream",
     "text": [
      "8.741414768581638%\n"
     ]
    }
   ],
   "source": [
    "totalR=R.iloc[0,0:6].sum()\n",
    "percentage=np.sqrt(eqm_R)/totalR*100\n",
    "print(str(percentage)+'%')"
   ]
  },
  {
   "cell_type": "code",
   "execution_count": null,
   "metadata": {},
   "outputs": [],
   "source": []
  },
  {
   "cell_type": "code",
   "execution_count": null,
   "metadata": {},
   "outputs": [],
   "source": []
  }
 ],
 "metadata": {
  "kernelspec": {
   "display_name": "Python 3",
   "language": "python",
   "name": "python3"
  },
  "language_info": {
   "codemirror_mode": {
    "name": "ipython",
    "version": 3
   },
   "file_extension": ".py",
   "mimetype": "text/x-python",
   "name": "python",
   "nbconvert_exporter": "python",
   "pygments_lexer": "ipython3",
   "version": "3.7.4"
  }
 },
 "nbformat": 4,
 "nbformat_minor": 2
}
